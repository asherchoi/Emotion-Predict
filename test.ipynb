{
 "cells": [
  {
   "cell_type": "code",
   "execution_count": 1,
   "metadata": {},
   "outputs": [
    {
     "name": "stderr",
     "output_type": "stream",
     "text": [
      "/opt/anaconda3/lib/python3.6/site-packages/h5py/__init__.py:36: FutureWarning: Conversion of the second argument of issubdtype from `float` to `np.floating` is deprecated. In future, it will be treated as `np.float64 == np.dtype(float).type`.\n",
      "  from ._conv import register_converters as _register_converters\n",
      "Using TensorFlow backend.\n"
     ]
    }
   ],
   "source": [
    "from __future__ import print_function\n",
    "\n",
    "import cv2\n",
    "import PIL\n",
    "from PIL import Image\n",
    "import keras\n",
    "from keras.models import Sequential\n",
    "from keras.layers import Dense, Dropout, Activation, Flatten\n",
    "from keras.layers import Convolution2D, MaxPooling2D\n",
    "from keras.optimizers import Adadelta\n",
    "from keras.utils import np_utils\n",
    "from keras.regularizers import l2 #, activity_l2\n",
    "import numpy as np\n",
    "#import cPickle \n",
    "import numpy\n",
    "import cv2\n",
    "import scipy\n",
    "import csv\n",
    "from __future__ import print_function\n",
    "import keras\n",
    "from keras.models import Sequential\n",
    "from keras.layers import Dense, Dropout, Activation, Flatten\n",
    "from keras.layers import Convolution2D, MaxPooling2D\n",
    "from keras.optimizers import Adadelta\n",
    "from keras.utils import np_utils\n",
    "from keras.regularizers import l2  #, activity_l2\n",
    "import _pickle as cPickle \n",
    "import numpy\n",
    "import csv\n",
    "import scipy.misc\n",
    "import scipy\n",
    "from scipy import ndimage\n",
    "import imutils\n",
    "import cv2\n",
    "import numpy as np\n",
    "from keras.preprocessing.image import ImageDataGenerator\n",
    "from keras.models import load_model\n"
   ]
  },
  {
   "cell_type": "code",
   "execution_count": 2,
   "metadata": {},
   "outputs": [],
   "source": [
    "mnew_model = load_model('model6_total_#4set_kwang.hdf5')"
   ]
  },
  {
   "cell_type": "code",
   "execution_count": null,
   "metadata": {},
   "outputs": [],
   "source": [
    "mnew_model.summary()"
   ]
  },
  {
   "cell_type": "code",
   "execution_count": 3,
   "metadata": {},
   "outputs": [],
   "source": [
    "import os\n",
    "from keras.preprocessing.image import ImageDataGenerator, load_img\n",
    "from keras.utils import to_categorical\n",
    "def createFileList(myDir):\n",
    "    format = ('.tiff','.jpg','.png','.PNG')\n",
    "    fileList = []\n",
    "    print(os.walk(myDir, topdown=False))\n",
    "    for root, dirs, files in os.walk(myDir, topdown=False):\n",
    "        \n",
    "        for name in files:\n",
    "            if name.endswith(format):\n",
    "                fullName = os.path.join(root, name)\n",
    "                fileList.append(fullName)\n",
    "    return fileList "
   ]
  },
  {
   "cell_type": "code",
   "execution_count": 4,
   "metadata": {},
   "outputs": [],
   "source": [
    "test_x , test_y = [],[]"
   ]
  },
  {
   "cell_type": "code",
   "execution_count": 5,
   "metadata": {},
   "outputs": [
    {
     "name": "stdout",
     "output_type": "stream",
     "text": [
      "<generator object walk at 0x7f126c1bbf68>\n"
     ]
    }
   ],
   "source": [
    "fileList = []\n",
    "fileList = createFileList('./data/valid')"
   ]
  },
  {
   "cell_type": "code",
   "execution_count": 6,
   "metadata": {},
   "outputs": [
    {
     "name": "stdout",
     "output_type": "stream",
     "text": [
      "['./data/valid/sad/S052_002_00000019.png', './data/valid/sad/S035_002_00000007.png', './data/valid/sad/S037_002_00000014.png', './data/valid/sad/S052_002_00000017.png', './data/valid/sad/S046_001_00000019.png', './data/valid/sad/NA.SA1.205.tiff', './data/valid/sad/S051_003_00000008.png', './data/valid/sad/S014_002_00000013.png', './data/valid/sad/22.PNG', './data/valid/sad/S055_004_00000028.png']\n"
     ]
    }
   ],
   "source": [
    "print(fileList[:10])"
   ]
  },
  {
   "cell_type": "code",
   "execution_count": 8,
   "metadata": {},
   "outputs": [
    {
     "name": "stdout",
     "output_type": "stream",
     "text": [
      "(0, 'angry')\n",
      "(1, 'fear')\n",
      "(2, 'happy')\n",
      "(3, 'neutral')\n",
      "(4, 'sad')\n",
      "(5, 'surprise')\n"
     ]
    }
   ],
   "source": [
    "from IPython.core.interactiveshell import InteractiveShell\n",
    "InteractiveShell.ast_node_interactivity = \"all\"\n",
    "\n",
    "classes={0:'angry', 1:'fear', 2:'happy', 3:'neutral', 4:'sad', 5:'surprise'}\n",
    "\n",
    "\n",
    "for i in classes.items():\n",
    "    print(i)"
   ]
  },
  {
   "cell_type": "code",
   "execution_count": 9,
   "metadata": {
    "scrolled": true
   },
   "outputs": [
    {
     "name": "stdout",
     "output_type": "stream",
     "text": [
      "[[[[ 91.]\n",
      "   [ 90.]\n",
      "   [ 88.]\n",
      "   ...\n",
      "   [ 79.]\n",
      "   [ 82.]\n",
      "   [ 83.]]\n",
      "\n",
      "  [[ 91.]\n",
      "   [ 89.]\n",
      "   [ 87.]\n",
      "   ...\n",
      "   [ 73.]\n",
      "   [ 75.]\n",
      "   [ 78.]]\n",
      "\n",
      "  [[ 88.]\n",
      "   [ 85.]\n",
      "   [ 85.]\n",
      "   ...\n",
      "   [ 68.]\n",
      "   [ 71.]\n",
      "   [ 74.]]\n",
      "\n",
      "  ...\n",
      "\n",
      "  [[ 69.]\n",
      "   [ 71.]\n",
      "   [ 80.]\n",
      "   ...\n",
      "   [ 61.]\n",
      "   [ 68.]\n",
      "   [ 71.]]\n",
      "\n",
      "  [[ 72.]\n",
      "   [ 74.]\n",
      "   [ 78.]\n",
      "   ...\n",
      "   [ 65.]\n",
      "   [ 63.]\n",
      "   [ 63.]]\n",
      "\n",
      "  [[ 68.]\n",
      "   [ 70.]\n",
      "   [ 69.]\n",
      "   ...\n",
      "   [ 65.]\n",
      "   [ 63.]\n",
      "   [ 63.]]]\n",
      "\n",
      "\n",
      " [[[154.]\n",
      "   [157.]\n",
      "   [155.]\n",
      "   ...\n",
      "   [164.]\n",
      "   [164.]\n",
      "   [164.]]\n",
      "\n",
      "  [[154.]\n",
      "   [157.]\n",
      "   [155.]\n",
      "   ...\n",
      "   [167.]\n",
      "   [167.]\n",
      "   [167.]]\n",
      "\n",
      "  [[154.]\n",
      "   [151.]\n",
      "   [149.]\n",
      "   ...\n",
      "   [166.]\n",
      "   [166.]\n",
      "   [167.]]\n",
      "\n",
      "  ...\n",
      "\n",
      "  [[139.]\n",
      "   [141.]\n",
      "   [142.]\n",
      "   ...\n",
      "   [ 24.]\n",
      "   [ 25.]\n",
      "   [ 25.]]\n",
      "\n",
      "  [[139.]\n",
      "   [138.]\n",
      "   [139.]\n",
      "   ...\n",
      "   [ 29.]\n",
      "   [ 29.]\n",
      "   [ 39.]]\n",
      "\n",
      "  [[137.]\n",
      "   [137.]\n",
      "   [138.]\n",
      "   ...\n",
      "   [ 31.]\n",
      "   [ 31.]\n",
      "   [ 30.]]]\n",
      "\n",
      "\n",
      " [[[189.]\n",
      "   [190.]\n",
      "   [191.]\n",
      "   ...\n",
      "   [179.]\n",
      "   [186.]\n",
      "   [188.]]\n",
      "\n",
      "  [[186.]\n",
      "   [187.]\n",
      "   [189.]\n",
      "   ...\n",
      "   [181.]\n",
      "   [189.]\n",
      "   [187.]]\n",
      "\n",
      "  [[191.]\n",
      "   [189.]\n",
      "   [194.]\n",
      "   ...\n",
      "   [177.]\n",
      "   [184.]\n",
      "   [182.]]\n",
      "\n",
      "  ...\n",
      "\n",
      "  [[137.]\n",
      "   [138.]\n",
      "   [139.]\n",
      "   ...\n",
      "   [116.]\n",
      "   [116.]\n",
      "   [118.]]\n",
      "\n",
      "  [[135.]\n",
      "   [136.]\n",
      "   [137.]\n",
      "   ...\n",
      "   [112.]\n",
      "   [112.]\n",
      "   [112.]]\n",
      "\n",
      "  [[135.]\n",
      "   [136.]\n",
      "   [138.]\n",
      "   ...\n",
      "   [115.]\n",
      "   [115.]\n",
      "   [113.]]]\n",
      "\n",
      "\n",
      " ...\n",
      "\n",
      "\n",
      " [[[252.]\n",
      "   [252.]\n",
      "   [213.]\n",
      "   ...\n",
      "   [ 32.]\n",
      "   [ 25.]\n",
      "   [ 25.]]\n",
      "\n",
      "  [[253.]\n",
      "   [246.]\n",
      "   [193.]\n",
      "   ...\n",
      "   [ 27.]\n",
      "   [ 25.]\n",
      "   [ 32.]]\n",
      "\n",
      "  [[249.]\n",
      "   [230.]\n",
      "   [203.]\n",
      "   ...\n",
      "   [ 27.]\n",
      "   [ 30.]\n",
      "   [ 47.]]\n",
      "\n",
      "  ...\n",
      "\n",
      "  [[116.]\n",
      "   [110.]\n",
      "   [ 92.]\n",
      "   ...\n",
      "   [ 38.]\n",
      "   [ 43.]\n",
      "   [ 70.]]\n",
      "\n",
      "  [[121.]\n",
      "   [121.]\n",
      "   [106.]\n",
      "   ...\n",
      "   [ 75.]\n",
      "   [ 89.]\n",
      "   [131.]]\n",
      "\n",
      "  [[126.]\n",
      "   [113.]\n",
      "   [109.]\n",
      "   ...\n",
      "   [123.]\n",
      "   [141.]\n",
      "   [176.]]]\n",
      "\n",
      "\n",
      " [[[255.]\n",
      "   [255.]\n",
      "   [255.]\n",
      "   ...\n",
      "   [255.]\n",
      "   [255.]\n",
      "   [255.]]\n",
      "\n",
      "  [[255.]\n",
      "   [255.]\n",
      "   [255.]\n",
      "   ...\n",
      "   [255.]\n",
      "   [255.]\n",
      "   [255.]]\n",
      "\n",
      "  [[255.]\n",
      "   [255.]\n",
      "   [255.]\n",
      "   ...\n",
      "   [255.]\n",
      "   [255.]\n",
      "   [255.]]\n",
      "\n",
      "  ...\n",
      "\n",
      "  [[255.]\n",
      "   [255.]\n",
      "   [255.]\n",
      "   ...\n",
      "   [255.]\n",
      "   [255.]\n",
      "   [255.]]\n",
      "\n",
      "  [[255.]\n",
      "   [255.]\n",
      "   [255.]\n",
      "   ...\n",
      "   [255.]\n",
      "   [255.]\n",
      "   [255.]]\n",
      "\n",
      "  [[255.]\n",
      "   [255.]\n",
      "   [255.]\n",
      "   ...\n",
      "   [255.]\n",
      "   [255.]\n",
      "   [255.]]]\n",
      "\n",
      "\n",
      " [[[255.]\n",
      "   [255.]\n",
      "   [255.]\n",
      "   ...\n",
      "   [255.]\n",
      "   [255.]\n",
      "   [255.]]\n",
      "\n",
      "  [[255.]\n",
      "   [255.]\n",
      "   [255.]\n",
      "   ...\n",
      "   [255.]\n",
      "   [255.]\n",
      "   [255.]]\n",
      "\n",
      "  [[255.]\n",
      "   [255.]\n",
      "   [255.]\n",
      "   ...\n",
      "   [255.]\n",
      "   [255.]\n",
      "   [255.]]\n",
      "\n",
      "  ...\n",
      "\n",
      "  [[255.]\n",
      "   [255.]\n",
      "   [255.]\n",
      "   ...\n",
      "   [255.]\n",
      "   [255.]\n",
      "   [255.]]\n",
      "\n",
      "  [[252.]\n",
      "   [246.]\n",
      "   [242.]\n",
      "   ...\n",
      "   [255.]\n",
      "   [255.]\n",
      "   [255.]]\n",
      "\n",
      "  [[221.]\n",
      "   [210.]\n",
      "   [202.]\n",
      "   ...\n",
      "   [255.]\n",
      "   [255.]\n",
      "   [255.]]]]\n",
      "[[0. 0. 0. 0. 1. 0.]\n",
      " [0. 0. 0. 0. 1. 0.]\n",
      " [0. 0. 0. 0. 1. 0.]\n",
      " ...\n",
      " [0. 0. 0. 1. 0. 0.]\n",
      " [0. 0. 0. 1. 0. 0.]\n",
      " [0. 0. 0. 1. 0. 0.]]\n"
     ]
    }
   ],
   "source": [
    "\n",
    "\n",
    "\n",
    "for x in fileList:\n",
    "    z = load_img(path =x, grayscale=True, target_size=(227,227),\n",
    "    interpolation='nearest')\n",
    "    q=np.asarray(z).astype('float32')\n",
    "    q = np.asarray([q])\n",
    "    test_x.append(q)\n",
    "    \n",
    "    t = -1\n",
    "    for y in classes.items():\n",
    "        if y[1] in x:\n",
    "            t = y[0]\n",
    "        \n",
    "    test_y.append(to_categorical(t, 6))\n",
    "\n",
    "test_x = np.asarray(test_x)\n",
    "test_x1=np.moveaxis(test_x, 1, 3)\n",
    "test_y = np.asarray(test_y)\n",
    "print(test_x1)   \n",
    "print(test_y)"
   ]
  },
  {
   "cell_type": "code",
   "execution_count": null,
   "metadata": {},
   "outputs": [],
   "source": [
    "print(test_y[:100]) "
   ]
  },
  {
   "cell_type": "code",
   "execution_count": null,
   "metadata": {},
   "outputs": [],
   "source": [
    "test_x1.shape"
   ]
  },
  {
   "cell_type": "code",
   "execution_count": null,
   "metadata": {},
   "outputs": [],
   "source": [
    "temp = np.array([test_x1[0]])\n",
    "temp.shape"
   ]
  },
  {
   "cell_type": "code",
   "execution_count": null,
   "metadata": {},
   "outputs": [],
   "source": [
    "temp_show=np.moveaxis(np.moveaxis(temp[0].astype('float32'), 0, 2),0,2)\n",
    "temp_show.shape\n",
    "plt.imshow(temp_show[0],cmap='gray')"
   ]
  },
  {
   "cell_type": "code",
   "execution_count": null,
   "metadata": {},
   "outputs": [],
   "source": [
    "prediction_score = mnew_model.predict_proba(q, batch_size = 1)\n",
    "np.argmax(prediction_score)"
   ]
  },
  {
   "cell_type": "code",
   "execution_count": null,
   "metadata": {},
   "outputs": [],
   "source": [
    "temp.shape\n",
    "#q=np.moveaxis(np.moveaxis(temp, 1,3),1,3)\n",
    "#print(q.shape)\n",
    "q=np.moveaxis(temp, 1,2)\n",
    "\n"
   ]
  },
  {
   "cell_type": "code",
   "execution_count": null,
   "metadata": {
    "scrolled": true
   },
   "outputs": [],
   "source": [
    "temp_show=np.moveaxis(np.moveaxis(q[0], 0, 2),0,2)\n",
    "temp_show.shape\n",
    "plt.imshow(temp_show[0],cmap='gray')"
   ]
  },
  {
   "cell_type": "code",
   "execution_count": null,
   "metadata": {},
   "outputs": [],
   "source": [
    "prediction_score = mnew_model.predict_proba(q, batch_size = 1)\n",
    "np.argmax(prediction_score)"
   ]
  },
  {
   "cell_type": "code",
   "execution_count": null,
   "metadata": {
    "scrolled": false
   },
   "outputs": [],
   "source": [
    "fig=plt.figure(figsize=(20, 20))\n",
    "for i in range(50):\n",
    "    image_to_show=np.moveaxis(np.moveaxis(test_x1[i], 0, 2),0,2)\n",
    "    fig.add_subplot(10,5,i+1)\n",
    "    plt.imshow(image_to_show[0],cmap='gray')\n",
    "    print(np.argmax(mnew_model.predict_proba(test_x1, batch_size = 199)[i]))\n",
    "    print(mnew_model.predict_proba(test_x1, batch_size = 199)[i])\n",
    "    print(np.max(mnew_model.predict_proba(test_x1, batch_size = 199)[i]))\n",
    "    print(test_y[i])\n",
    "plt.show()\n",
    "    \n"
   ]
  },
  {
   "cell_type": "code",
   "execution_count": null,
   "metadata": {},
   "outputs": [],
   "source": [
    "mnew_model.test_on_batch(test_x1, test_y)"
   ]
  },
  {
   "cell_type": "code",
   "execution_count": null,
   "metadata": {},
   "outputs": [],
   "source": [
    "import matplotlib.pyplot as plt\n",
    "%matplotlib inline"
   ]
  },
  {
   "cell_type": "code",
   "execution_count": null,
   "metadata": {},
   "outputs": [],
   "source": [
    "test_x1[0].shape"
   ]
  },
  {
   "cell_type": "code",
   "execution_count": null,
   "metadata": {},
   "outputs": [],
   "source": [
    "image_to_show=np.moveaxis(np.moveaxis(test_x1[0], 0, 2),0,2)"
   ]
  },
  {
   "cell_type": "code",
   "execution_count": null,
   "metadata": {},
   "outputs": [],
   "source": [
    "image_to_show.shape"
   ]
  },
  {
   "cell_type": "code",
   "execution_count": null,
   "metadata": {},
   "outputs": [],
   "source": [
    "plt.imshow(image_to_show[0],cmap='gray')"
   ]
  },
  {
   "cell_type": "code",
   "execution_count": null,
   "metadata": {},
   "outputs": [],
   "source": [
    "#mnew_model.metrics_names\n",
    "print(np.argmax(mnew_model.predict_proba(test_x1, batch_size = 10)[0]))\n",
    "print(mnew_model.predict_proba(test_x1, batch_size = 10)[0])\n",
    "print(np.max(mnew_model.predict_proba(test_x1, batch_size = 10)[0]))"
   ]
  },
  {
   "cell_type": "code",
   "execution_count": null,
   "metadata": {},
   "outputs": [],
   "source": [
    "image_to_show=np.moveaxis(np.moveaxis(test_x1[3], 0, 2),0,2)\n",
    "plt.imshow(image_to_show[0],cmap='gray')\n",
    "print(np.argmax(mnew_model.predict_proba(test_x1, batch_size = 10)[4]))\n",
    "print(mnew_model.predict_proba(test_x1, batch_size = 10)[3])\n",
    "print(np.max(mnew_model.predict_proba(test_x1, batch_size = 10)[3]))"
   ]
  },
  {
   "cell_type": "code",
   "execution_count": null,
   "metadata": {},
   "outputs": [],
   "source": []
  },
  {
   "cell_type": "code",
   "execution_count": null,
   "metadata": {},
   "outputs": [],
   "source": [
    "proba = predict_prob(0,test_set_x,model)kera\n",
    "proba1 = predict_prob(1,test_set_x,model)\n",
    "proba2 = predict_prob(2,test_set_x,model)\n",
    "proba3 = predict_prob(3,test_set_x,model)\n",
    "proba4 = predict_prob(4,test_set_x,model)\n",
    "proba5 = predict_prob(5,test_set_x,model)\n",
    "proba6 = predict_prob(6,test_set_x,model)\n",
    "proba7 = predict_prob(7,test_set_x,model)\n",
    "Out = []\n",
    "for row in zip(proba,proba1,proba2,proba3,proba4,proba5,proba6,proba7):\n",
    "\ta = numpy.argmax(np.array(row).mean(axis=0))\n",
    "\tOut.append(a)\n",
    "\n",
    "Out = np.array(Out)\n",
    "test_set_y = np.array(test_set_y)\n",
    "c = np.sum(Out == test_set_y)\n",
    "print(\"Acc:\"+str((float(c)/len(Out))))"
   ]
  }
 ],
 "metadata": {
  "kernelspec": {
   "display_name": "Python 3",
   "language": "python",
   "name": "python3"
  },
  "language_info": {
   "codemirror_mode": {
    "name": "ipython",
    "version": 3
   },
   "file_extension": ".py",
   "mimetype": "text/x-python",
   "name": "python",
   "nbconvert_exporter": "python",
   "pygments_lexer": "ipython3",
   "version": "3.6.4"
  }
 },
 "nbformat": 4,
 "nbformat_minor": 2
}
